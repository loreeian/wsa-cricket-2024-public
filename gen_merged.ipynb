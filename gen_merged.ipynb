{
 "cells": [
  {
   "cell_type": "markdown",
   "metadata": {},
   "source": [
    "### Generate merged_files.csv from t20s_male_full files"
   ]
  },
  {
   "cell_type": "code",
   "execution_count": 1,
   "metadata": {},
   "outputs": [],
   "source": [
    "import glob\n",
    "import pandas as pd"
   ]
  },
  {
   "cell_type": "code",
   "execution_count": null,
   "metadata": {},
   "outputs": [],
   "source": [
    "def chrono(x):\n",
    "    return int((x.split('/')[1]).split('.')[0])"
   ]
  },
  {
   "cell_type": "code",
   "execution_count": null,
   "metadata": {},
   "outputs": [],
   "source": [
    "files = glob.glob(pathname=\"t20s_male_full/*.csv\")\n",
    "files = sorted(files, key = chrono)   \n",
    "dataframes = []\n",
    "\n",
    "for file in sorted(files, key=chrono):\n",
    "    df_to_add = pd.read_csv(file,dtype={\n",
    "        'match_id': 'int64',\n",
    "        'season': 'str',\n",
    "        'start_date': 'string',\n",
    "        'venue': 'string',\n",
    "        'innings': 'int64',\n",
    "        'ball': 'float64',\n",
    "        'batting_team': 'string',\n",
    "        'bowling_team': 'string',\n",
    "        'striker': 'string',\n",
    "        'non_striker': 'string',\n",
    "        'bowler': 'string',\n",
    "        'runs_off_bat': 'int64',\n",
    "        'extras': 'int64',\n",
    "        'wides': 'float64',\n",
    "        'noballs': 'float64',\n",
    "        'byes': 'float64',\n",
    "        'legbyes': 'float64',\n",
    "        'penalty': 'float64',\n",
    "        'wicket_type': 'string',\n",
    "        'player_type': 'string'\n",
    "    })\n",
    "    # remove two columns with only one non-null entry\n",
    "    df_to_add = df_to_add.drop(columns=['other_wicket_type', 'other_player_dismissed'])\n",
    "    dataframes.append(df_to_add)\n",
    "    \n",
    "# Concatenate all the dataframes in the list into a single dataframe\n",
    "# index is not ignored in this case to easier index into individual lines\n",
    "result = pd.concat(dataframes)"
   ]
  },
  {
   "cell_type": "code",
   "execution_count": null,
   "metadata": {},
   "outputs": [],
   "source": [
    "# produce csv file\n",
    "result.to_csv('merged_files.csv')"
   ]
  }
 ],
 "metadata": {
  "kernelspec": {
   "display_name": "env",
   "language": "python",
   "name": "python3"
  },
  "language_info": {
   "codemirror_mode": {
    "name": "ipython",
    "version": 3
   },
   "file_extension": ".py",
   "mimetype": "text/x-python",
   "name": "python",
   "nbconvert_exporter": "python",
   "pygments_lexer": "ipython3",
   "version": "3.11.8"
  }
 },
 "nbformat": 4,
 "nbformat_minor": 2
}
