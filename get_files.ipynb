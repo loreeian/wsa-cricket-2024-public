{
 "cells": [
  {
   "cell_type": "code",
   "execution_count": null,
   "metadata": {},
   "outputs": [],
   "source": [
    "# Code by Ian Loree and Bryce Carson\n",
    "# February 12th, 2024"
   ]
  },
  {
   "cell_type": "code",
   "execution_count": 4,
   "metadata": {},
   "outputs": [],
   "source": [
    "import glob\n",
    "import pandas as pd\n",
    "import zipfile\n",
    "import os\n",
    "import shutil\n",
    "from pathlib import Path\n",
    "from urllib.request import urlretrieve"
   ]
  },
  {
   "cell_type": "code",
   "execution_count": 5,
   "metadata": {},
   "outputs": [],
   "source": [
    "def move_files(filename):\n",
    "    # Remove existing directories if redownloading match files\n",
    "    if Path('t20s_male_full').is_dir():\n",
    "        shutil.rmtree('t20s_male_full')\n",
    "    if Path('t20s_male_info').is_dir():\n",
    "        shutil.rmtree('t20s_male_info')\n",
    "\n",
    "    os.mkdir(\"t20s_male_full\")\n",
    "    os.mkdir(\"t20s_male_info\")\n",
    "    with zipfile.ZipFile(filename, 'r') as zip_ref:\n",
    "        zip_ref.extractall('t20s_male_full')\n",
    "    files = glob.glob(pathname=\"t20s_male_full/*info.csv\")\n",
    "    for file in files:\n",
    "        file = file.split('/')[1]\n",
    "        old_path = os.path.join(\"t20s_male_full\", file)\n",
    "        new_path = os.path.join(\"t20s_male_info\", file)\n",
    "        shutil.move(old_path, new_path)\n",
    "    shutil.move(\"t20s_male_full/README.txt\", \"matches_info.txt\")\n",
    "    os.remove(filename)"
   ]
  },
  {
   "cell_type": "code",
   "execution_count": 6,
   "metadata": {},
   "outputs": [],
   "source": [
    "# Men's T20 international matches from cricsheet.org, new format\n",
    "url = \"https://cricsheet.org/downloads/t20s_male_csv2.zip\"\n",
    "filename=\"t20s_male_csv2.zip\"\n",
    "urlretrieve(url, filename)\n",
    "move_files(filename)\n",
    "\n",
    "# Get list of all files with glob, and sort by match id\n",
    "files = glob.glob(pathname=\"t20s_male_full/*.csv\")\n",
    "chrono = lambda x : int((x.split('/')[1]).split('.')[0])\n",
    "files = sorted(files, key = chrono)   \n",
    "dataframes = []\n",
    "\n",
    "for file in files:\n",
    "    df_to_add = pd.read_csv(file)\n",
    "    # remove two columns with only one non-null entry\n",
    "    df_to_add = df_to_add.drop(columns=['other_wicket_type', 'other_player_dismissed'])\n",
    "    dataframes.append(df_to_add)\n",
    "    \n",
    "# Concatenate all the dataframes in the list into a single df\n",
    "result = pd.concat(dataframes)\n",
    "# produce csv file\n",
    "result.to_csv('merged_files.csv')"
   ]
  }
 ],
 "metadata": {
  "kernelspec": {
   "display_name": "env",
   "language": "python",
   "name": "python3"
  },
  "language_info": {
   "codemirror_mode": {
    "name": "ipython",
    "version": 3
   },
   "file_extension": ".py",
   "mimetype": "text/x-python",
   "name": "python",
   "nbconvert_exporter": "python",
   "pygments_lexer": "ipython3",
   "version": "3.10.12"
  }
 },
 "nbformat": 4,
 "nbformat_minor": 2
}
