{
 "cells": [
  {
   "cell_type": "code",
<<<<<<< HEAD
   "execution_count": null,
   "metadata": {},
   "outputs": [],
=======
   "execution_count": 21,
   "metadata": {},
   "outputs": [
    {
     "name": "stdout",
     "output_type": "stream",
     "text": [
      "   Unnamed: 0  match_id season  start_date          venue  innings  ball  \\\n",
      "0           0    211028   2005  2005-06-13  The Rose Bowl        1   0.1   \n",
      "1           1    211028   2005  2005-06-13  The Rose Bowl        1   0.2   \n",
      "2           2    211028   2005  2005-06-13  The Rose Bowl        1   0.3   \n",
      "3           3    211028   2005  2005-06-13  The Rose Bowl        1   0.4   \n",
      "4           4    211028   2005  2005-06-13  The Rose Bowl        1   0.5   \n",
      "\n",
      "  batting_team bowling_team         striker  ... bowler runs_off_bat  extras  \\\n",
      "0      England    Australia  ME Trescothick  ...  B Lee            0       0   \n",
      "1      England    Australia  ME Trescothick  ...  B Lee            1       0   \n",
      "2      England    Australia        GO Jones  ...  B Lee            0       0   \n",
      "3      England    Australia        GO Jones  ...  B Lee            0       0   \n",
      "4      England    Australia        GO Jones  ...  B Lee            0       0   \n",
      "\n",
      "   wides  noballs  byes  legbyes  penalty  wicket_type player_dismissed  \n",
      "0    NaN      NaN   NaN      NaN      NaN          NaN              NaN  \n",
      "1    NaN      NaN   NaN      NaN      NaN          NaN              NaN  \n",
      "2    NaN      NaN   NaN      NaN      NaN          NaN              NaN  \n",
      "3    NaN      NaN   NaN      NaN      NaN          NaN              NaN  \n",
      "4    NaN      NaN   NaN      NaN      NaN          NaN              NaN  \n",
      "\n",
      "[5 rows x 21 columns]\n"
     ]
    }
   ],
>>>>>>> 528b4f5dd0f16587d68af2727056cff6ddf81440
   "source": [
    "import pandas as pd\n",
    "\n",
    "merge = pd.read_csv('merged_files.csv')\n",
    "print(merge.head())\n",
    "merge.dtypes"
   ]
  },
  {
   "cell_type": "code",
<<<<<<< HEAD
   "execution_count": null,
   "metadata": {},
   "outputs": [],
   "source": [
    "# read in text file\n",
    "with open('teams.txt') as file:\n",
    "    teams_list = file.read().splitlines()\n",
    "print(teams_list)"
   ]
=======
   "execution_count": 22,
   "metadata": {},
   "outputs": [
    {
     "ename": "KeyError",
     "evalue": "'other_wicket_type'",
     "output_type": "error",
     "traceback": [
      "\u001b[0;31m---------------------------------------------------------------------------\u001b[0m",
      "\u001b[0;31mKeyError\u001b[0m                                  Traceback (most recent call last)",
      "File \u001b[0;32m~/misc/wsa/env/lib/python3.11/site-packages/pandas/core/indexes/base.py:3802\u001b[0m, in \u001b[0;36mIndex.get_loc\u001b[0;34m(self, key)\u001b[0m\n\u001b[1;32m   3801\u001b[0m \u001b[38;5;28;01mtry\u001b[39;00m:\n\u001b[0;32m-> 3802\u001b[0m     \u001b[38;5;28;01mreturn\u001b[39;00m \u001b[38;5;28;43mself\u001b[39;49m\u001b[38;5;241;43m.\u001b[39;49m\u001b[43m_engine\u001b[49m\u001b[38;5;241;43m.\u001b[39;49m\u001b[43mget_loc\u001b[49m\u001b[43m(\u001b[49m\u001b[43mcasted_key\u001b[49m\u001b[43m)\u001b[49m\n\u001b[1;32m   3803\u001b[0m \u001b[38;5;28;01mexcept\u001b[39;00m \u001b[38;5;167;01mKeyError\u001b[39;00m \u001b[38;5;28;01mas\u001b[39;00m err:\n",
      "File \u001b[0;32mindex.pyx:153\u001b[0m, in \u001b[0;36mpandas._libs.index.IndexEngine.get_loc\u001b[0;34m()\u001b[0m\n",
      "File \u001b[0;32mindex.pyx:182\u001b[0m, in \u001b[0;36mpandas._libs.index.IndexEngine.get_loc\u001b[0;34m()\u001b[0m\n",
      "File \u001b[0;32mpandas/_libs/hashtable_class_helper.pxi:7081\u001b[0m, in \u001b[0;36mpandas._libs.hashtable.PyObjectHashTable.get_item\u001b[0;34m()\u001b[0m\n",
      "File \u001b[0;32mpandas/_libs/hashtable_class_helper.pxi:7089\u001b[0m, in \u001b[0;36mpandas._libs.hashtable.PyObjectHashTable.get_item\u001b[0;34m()\u001b[0m\n",
      "\u001b[0;31mKeyError\u001b[0m: 'other_wicket_type'",
      "\nThe above exception was the direct cause of the following exception:\n",
      "\u001b[0;31mKeyError\u001b[0m                                  Traceback (most recent call last)",
      "Cell \u001b[0;32mIn[22], line 1\u001b[0m\n\u001b[0;32m----> 1\u001b[0m \u001b[38;5;28mprint\u001b[39m(\u001b[43mmerge\u001b[49m\u001b[38;5;241;43m.\u001b[39;49m\u001b[43mcolumns\u001b[49m\u001b[38;5;241;43m.\u001b[39;49m\u001b[43mget_loc\u001b[49m\u001b[43m(\u001b[49m\u001b[38;5;124;43m'\u001b[39;49m\u001b[38;5;124;43mother_wicket_type\u001b[39;49m\u001b[38;5;124;43m'\u001b[39;49m\u001b[43m)\u001b[49m)\n\u001b[1;32m      2\u001b[0m \u001b[38;5;28mprint\u001b[39m(merge\u001b[38;5;241m.\u001b[39mcolumns\u001b[38;5;241m.\u001b[39mget_loc(\u001b[38;5;124m'\u001b[39m\u001b[38;5;124mother_player_dismissed\u001b[39m\u001b[38;5;124m'\u001b[39m))\n\u001b[1;32m      3\u001b[0m merge\u001b[38;5;241m.\u001b[39mdtypes\n",
      "File \u001b[0;32m~/misc/wsa/env/lib/python3.11/site-packages/pandas/core/indexes/base.py:3809\u001b[0m, in \u001b[0;36mIndex.get_loc\u001b[0;34m(self, key)\u001b[0m\n\u001b[1;32m   3804\u001b[0m     \u001b[38;5;28;01mif\u001b[39;00m \u001b[38;5;28misinstance\u001b[39m(casted_key, \u001b[38;5;28mslice\u001b[39m) \u001b[38;5;129;01mor\u001b[39;00m (\n\u001b[1;32m   3805\u001b[0m         \u001b[38;5;28misinstance\u001b[39m(casted_key, abc\u001b[38;5;241m.\u001b[39mIterable)\n\u001b[1;32m   3806\u001b[0m         \u001b[38;5;129;01mand\u001b[39;00m \u001b[38;5;28many\u001b[39m(\u001b[38;5;28misinstance\u001b[39m(x, \u001b[38;5;28mslice\u001b[39m) \u001b[38;5;28;01mfor\u001b[39;00m x \u001b[38;5;129;01min\u001b[39;00m casted_key)\n\u001b[1;32m   3807\u001b[0m     ):\n\u001b[1;32m   3808\u001b[0m         \u001b[38;5;28;01mraise\u001b[39;00m InvalidIndexError(key)\n\u001b[0;32m-> 3809\u001b[0m     \u001b[38;5;28;01mraise\u001b[39;00m \u001b[38;5;167;01mKeyError\u001b[39;00m(key) \u001b[38;5;28;01mfrom\u001b[39;00m \u001b[38;5;21;01merr\u001b[39;00m\n\u001b[1;32m   3810\u001b[0m \u001b[38;5;28;01mexcept\u001b[39;00m \u001b[38;5;167;01mTypeError\u001b[39;00m:\n\u001b[1;32m   3811\u001b[0m     \u001b[38;5;66;03m# If we have a listlike key, _check_indexing_error will raise\u001b[39;00m\n\u001b[1;32m   3812\u001b[0m     \u001b[38;5;66;03m#  InvalidIndexError. Otherwise we fall through and re-raise\u001b[39;00m\n\u001b[1;32m   3813\u001b[0m     \u001b[38;5;66;03m#  the TypeError.\u001b[39;00m\n\u001b[1;32m   3814\u001b[0m     \u001b[38;5;28mself\u001b[39m\u001b[38;5;241m.\u001b[39m_check_indexing_error(key)\n",
      "\u001b[0;31mKeyError\u001b[0m: 'other_wicket_type'"
     ]
    }
   ],
   "source": []
>>>>>>> 528b4f5dd0f16587d68af2727056cff6ddf81440
  },
  {
   "cell_type": "code",
   "execution_count": null,
   "metadata": {},
<<<<<<< HEAD
   "outputs": [],
   "source": [
    "# index through to get only rows that match text file\n",
    "# here, we get only plays from teams participating in the 2024 World Cup\n",
    "df = merge.loc[(merge['bowling_team'].isin(teams_list)) | (merge['batting_team'].isin(teams_list))]\n",
    "print(df, df.shape)"
=======
   "outputs": [
    {
     "name": "stdout",
     "output_type": "stream",
     "text": [
      "Unnamed: 0                  int64\n",
      "match_id                    int64\n",
      "season                     object\n",
      "start_date                 object\n",
      "venue                      object\n",
      "innings                     int64\n",
      "ball                      float64\n",
      "batting_team               object\n",
      "bowling_team               object\n",
      "striker                    object\n",
      "non_striker                object\n",
      "bowler                     object\n",
      "runs_off_bat                int64\n",
      "extras                      int64\n",
      "wides                     float64\n",
      "noballs                   float64\n",
      "byes                      float64\n",
      "legbyes                   float64\n",
      "penalty                   float64\n",
      "wicket_type                object\n",
      "player_dismissed           object\n",
      "other_wicket_type          object\n",
      "other_player_dismissed     object\n",
      "dtype: object\n",
      "object\n",
      "None\n"
     ]
    }
   ],
   "source": [
    "Row = merge.loc[merge['other_wicket_type'].notnull()]\n",
    "print(Row.dtypes)\n",
    "print(print(merge.iloc[427792].dtypes))"
>>>>>>> 528b4f5dd0f16587d68af2727056cff6ddf81440
   ]
  }
 ],
 "metadata": {
  "kernelspec": {
   "display_name": "env",
   "language": "python",
   "name": "python3"
  },
  "language_info": {
   "codemirror_mode": {
    "name": "ipython",
    "version": 3
   },
   "file_extension": ".py",
   "mimetype": "text/x-python",
   "name": "python",
   "nbconvert_exporter": "python",
   "pygments_lexer": "ipython3",
   "version": "3.11.7"
  }
 },
 "nbformat": 4,
 "nbformat_minor": 2
}
