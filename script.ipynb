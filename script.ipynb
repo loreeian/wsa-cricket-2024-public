{
 "cells": [
  {
   "cell_type": "code",
   "execution_count": 91,
   "metadata": {},
   "outputs": [],
   "source": [
    "import pandas as pd\n",
    "import numpy as np"
   ]
  },
  {
   "cell_type": "code",
   "execution_count": null,
   "metadata": {},
   "outputs": [],
   "source": [
    "# read in merged csv\n",
    "merge = pd.read_csv('merged_files.csv')\n",
    "print(merge.head())"
   ]
  },
  {
   "cell_type": "code",
   "execution_count": null,
   "metadata": {},
   "outputs": [],
   "source": [
    "# read in list of players \n",
    "players = pd.read_csv('players.csv')\n",
    "players['runs/ball'] = pd.Series(dtype='float')\n",
    "print(players.head())"
   ]
  },
  {
   "cell_type": "code",
   "execution_count": null,
   "metadata": {},
   "outputs": [],
   "source": [
    "# index through to get only rows that match text file\n",
    "# here, we get only plays from teams participating in the 2024 World Cup\n",
    "# Note: there is no data for the United States\n",
    "\n",
    "with open('teams.txt') as file:\n",
    "    teams_list = file.read().splitlines()\n",
    "df = merge.loc[(merge['bowling_team'].isin(teams_list)) | (merge['batting_team'].isin(teams_list))]\n",
    "print(df, df.shape)"
   ]
  },
  {
   "cell_type": "code",
   "execution_count": null,
   "metadata": {},
   "outputs": [],
   "source": [
    "# we will use only data from 2020 onward (last 4 years)\n",
    "df[['start-year', 'start-day', 'start-month']] = df['start_date'].str.split('-', expand=True)\n",
    "df = df.loc[df['start-year'].astype(int) >= 2020]\n",
    "df = df.drop(['start-year', 'start-day', 'start-month'], axis=1)\n",
    "df.head()"
   ]
  },
  {
   "cell_type": "code",
   "execution_count": 96,
   "metadata": {},
   "outputs": [],
   "source": [
    "# TODO: loop through df to calculate runs/ball for all bowlers and hitters/strikers\n",
    "# save runs/ball to players dataframe\n",
    "# ensure player names match those in dataframe when iterating\n",
    "\n",
    "# Example to get all balls from a certain bowler\n",
    "df_ls = df.loc[df['bowler'] == 'LS Livingstone']"
   ]
  }
 ],
 "metadata": {
  "kernelspec": {
   "display_name": "env",
   "language": "python",
   "name": "python3"
  },
  "language_info": {
   "codemirror_mode": {
    "name": "ipython",
    "version": 3
   },
   "file_extension": ".py",
   "mimetype": "text/x-python",
   "name": "python",
   "nbconvert_exporter": "python",
   "pygments_lexer": "ipython3",
   "version": "3.11.8"
  }
 },
 "nbformat": 4,
 "nbformat_minor": 2
}
