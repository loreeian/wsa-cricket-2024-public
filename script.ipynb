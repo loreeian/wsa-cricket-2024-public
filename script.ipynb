{
 "cells": [
  {
   "cell_type": "code",
   "execution_count": null,
   "metadata": {},
   "outputs": [],
   "source": [
    "import pandas as pd\n",
    "\n",
    "merge = pd.read_csv('merged_files.csv')\n",
    "print(merge.head())\n",
    "merge.dtypes"
   ]
  },
  {
   "cell_type": "code",
   "execution_count": null,
   "metadata": {},
   "outputs": [],
   "source": [
    "# read in text file\n",
    "with open('teams.txt') as file:\n",
    "    teams_list = file.read().splitlines()\n",
    "print(teams_list)"
   ]
  },
  {
   "cell_type": "code",
   "execution_count": null,
   "metadata": {},
   "outputs": [],
   "source": [
    "# index through to get only rows that match text file\n",
    "# here, we get only plays from teams participating in the 2024 World Cup\n",
    "df = merge.loc[(merge['bowling_team'].isin(teams_list)) | (merge['batting_team'].isin(teams_list))]\n",
    "print(df, df.shape)"
   ]
  }
 ],
 "metadata": {
  "kernelspec": {
   "display_name": "env",
   "language": "python",
   "name": "python3"
  },
  "language_info": {
   "codemirror_mode": {
    "name": "ipython",
    "version": 3
   },
   "file_extension": ".py",
   "mimetype": "text/x-python",
   "name": "python",
   "nbconvert_exporter": "python",
   "pygments_lexer": "ipython3",
   "version": "3.11.7"
  }
 },
 "nbformat": 4,
 "nbformat_minor": 2
}
