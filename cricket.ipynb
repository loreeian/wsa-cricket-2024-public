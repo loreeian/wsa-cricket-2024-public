{
 "cells": [
  {
   "cell_type": "code",
   "execution_count": 5,
   "metadata": {},
   "outputs": [],
   "source": [
    "import glob\n",
    "import pandas as pd"
   ]
  },
  {
   "cell_type": "code",
   "execution_count": 6,
   "metadata": {},
   "outputs": [],
   "source": [
    "def chrono(x):\n",
    "    return int((x.split('/')[1]).split('.')[0])"
   ]
  },
  {
   "cell_type": "code",
   "execution_count": 7,
   "metadata": {},
   "outputs": [],
   "source": [
    "files = glob.glob(pathname=\"t20s_male_full/*.csv\")\n",
    "files = sorted(files, key = chrono)   \n",
    "dataframes = []\n",
    "\n",
    "for file in sorted(files, key=chrono):\n",
    "    df_to_add = pd.read_csv(file)\n",
    "    dataframes.append(df_to_add[[\"match_id\",\"season\",\"start_date\",\"venue\",\"innings\",\"ball\",\"batting_team\",\"bowling_team\",\"striker\",\"non_striker\",\"bowler\",\"runs_off_bat\",\"extras\",\"wides\",\"noballs\",\"byes\",\"legbyes\",\"penalty\",\"wicket_type\",\"player_dismissed\"]])\n",
    "\n",
    "# Concatenate all the dataframes in the list into a single dataframe\n",
    "# index is not ignored in this case to easier index into individual lines\n",
    "result = pd.concat(dataframes)"
   ]
  },
  {
   "cell_type": "code",
   "execution_count": 8,
   "metadata": {},
   "outputs": [],
   "source": [
    "# TO DO: add code here to narrow down entries by player / country /etc.\n"
   ]
  },
  {
   "cell_type": "code",
   "execution_count": 9,
   "metadata": {},
   "outputs": [],
   "source": [
    "# produce csv file\n",
    "result.to_csv('merged_files.csv')"
   ]
  }
 ],
 "metadata": {
  "kernelspec": {
   "display_name": "base",
   "language": "python",
   "name": "python3"
  },
  "language_info": {
   "codemirror_mode": {
    "name": "ipython",
    "version": 3
   },
   "file_extension": ".py",
   "mimetype": "text/x-python",
   "name": "python",
   "nbconvert_exporter": "python",
   "pygments_lexer": "ipython3",
   "version": "3.11.7"
  }
 },
 "nbformat": 4,
 "nbformat_minor": 2
}
