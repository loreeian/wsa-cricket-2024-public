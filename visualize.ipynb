{
 "cells": [
  {
   "cell_type": "code",
   "execution_count": null,
   "metadata": {},
   "outputs": [],
   "source": [
    "# Code by Ian Loree\n",
    "# April 8th, 2024"
   ]
  },
  {
   "cell_type": "code",
   "execution_count": null,
   "metadata": {},
   "outputs": [],
   "source": [
    "from collections import Counter\n",
    "import glob\n",
    "import numpy as np\n",
    "import pandas as pd\n",
    "import matplotlib.pyplot as plt\n",
    "import seaborn as sns"
   ]
  },
  {
   "cell_type": "markdown",
   "metadata": {},
   "source": [
    "### Analyze Results"
   ]
  },
  {
   "cell_type": "code",
   "execution_count": null,
   "metadata": {},
   "outputs": [],
   "source": [
    "sim_files = glob.glob(pathname=\"simulation_results/simulation*.csv\")\n",
    "n_sims = len(sim_files)\n",
    "simulation_results = np.empty((n_sims, 20), dtype=object)\n",
    "\n",
    "for i, file in enumerate(sim_files):\n",
    "    record = pd.read_csv(file)\n",
    "    placements = pd.Series(record['Result'])\n",
    "    simulation_results[i] = placements.to_numpy()"
   ]
  },
  {
   "cell_type": "code",
   "execution_count": null,
   "metadata": {},
   "outputs": [],
   "source": [
    "# Two-dimensional numpy array of simulation results \n",
    "# with each row as a simulation, each column as country, entry as placement \n",
    "# team index is same as in teams_list, starting with India as 0\n",
    "\n",
    "placements = [\"Champion\", \"Finalist\", \"Semifinalist\", \"Super 8 stage\", \"Group stage\"]\n",
    "\n",
    "with open('teams.txt') as file:\n",
    "    teams_list = file.read().splitlines()\n",
    "\n",
    "# Ex: Print results for all countries\n",
    "for i in range(0,20):\n",
    "    country_results = dict(Counter(simulation_results[:,i]))\n",
    "    print(teams_list[i], \"results:\", {k: country_results[k] for k in placements if k in country_results})"
   ]
  },
  {
   "cell_type": "code",
   "execution_count": null,
   "metadata": {},
   "outputs": [],
   "source": [
    "# match_records contains all match results from the simulation set.\n",
    "# This way, we can easily calculate the proportion of matches won\n",
    "# by one team versus another across the whole simulation set.\n",
    "# The outcome column is included only in the rare case a tie occurs.\n",
    "# Below, the match records from the first simulation are printed.\n",
    "match_records = pd.read_csv('simulation_results/match_records.csv')\n",
    "match_records[['winner','loser','outcome']].head(55)"
   ]
  },
  {
   "cell_type": "code",
   "execution_count": null,
   "metadata": {},
   "outputs": [],
   "source": [
    "def result_bar(team):\n",
    "    data = dict(Counter(simulation_results[:, teams_list.index(team)]))\n",
    "    data = {k: data[k] for k in placements if k in data}\n",
    "    plt.figure(figsize=(10, 6))\n",
    "    plt.bar(list(data.keys()), list(data.values()))\n",
    "    plt.xlabel('Placement')\n",
    "    plt.ylabel('Number of Simulations')\n",
    "    plt.title(f'Simulation Results for {team}')\n",
    "    plt.xticks(rotation=45)\n",
    "    plt.tight_layout()\n",
    "    plt.show()"
   ]
  },
  {
   "cell_type": "code",
   "execution_count": null,
   "metadata": {},
   "outputs": [],
   "source": [
    "def result_pie(team):\n",
    "    data = dict(Counter(simulation_results[:, teams_list.index(team)]))\n",
    "    data = {k: data[k] for k in placements if k in data}\n",
    "    plt.figure(figsize=(8, 8))\n",
    "    plt.pie(list(data.values()), labels=list(data.keys()), autopct='%1.1f%%', startangle=140)\n",
    "    # plt.legend(loc=\"best\", fontsize='medium', title=\"Placement\")\n",
    "    plt.title(f'Simulation Results for {team}')\n",
    "    plt.axis('equal')\n",
    "    plt.show()"
   ]
  },
  {
   "cell_type": "code",
   "execution_count": null,
   "metadata": {},
   "outputs": [],
   "source": [
    "def pair_results(teamA, teamB, print_statement=True):\n",
    "    if teamA == teamB:\n",
    "        return\n",
    "    num_victories = len(match_records.loc[(match_records['winner'] == teamA) &\n",
    "                                           (match_records['loser'] == teamB) &\n",
    "                                           (match_records['outcome'] == 'w')])\n",
    "    num_total = len(match_records.loc[((match_records['winner'] == teamA) &\n",
    "                                           (match_records['loser'] == teamB)) |\n",
    "                                           ((match_records['loser'] == teamA) &\n",
    "                                           (match_records['winner'] == teamB))])\n",
    "    if num_total == 0:\n",
    "        if print_statement:\n",
    "            print(f\"{teamA} did not play {teamB} in this simulation set.\")\n",
    "    else:\n",
    "        prop = num_victories/num_total\n",
    "        if print_statement:\n",
    "            print(f\"{teamA} beat {teamB} {num_victories} times in {num_total} matches, for a winning proportion of {prop:.3f}.\")\n",
    "        return prop"
   ]
  },
  {
   "cell_type": "code",
   "execution_count": null,
   "metadata": {},
   "outputs": [],
   "source": [
    "champions = {}\n",
    "for team in teams_list:\n",
    "    data = dict(Counter(simulation_results[:, teams_list.index(team)]))\n",
    "    if 'Champion' in data:\n",
    "        champions[team] = data[\"Champion\"]*100.00/n_sims\n",
    "plt.figure(figsize=(10, 6))\n",
    "plt.bar(list(champions.keys()), list(champions.values()))\n",
    "plt.xlabel('Country')\n",
    "plt.ylabel('Percentage of Simulations Won')\n",
    "plt.title('Championship Teams')\n",
    "plt.xticks(rotation=45)\n",
    "plt.show()"
   ]
  },
  {
   "cell_type": "code",
   "execution_count": null,
   "metadata": {},
   "outputs": [],
   "source": [
    "# Get bar chart / pie chart for any team here!\n",
    "team = 'New Zealand'  # Example\n",
    "result_bar(team)\n",
    "result_pie(team)"
   ]
  },
  {
   "cell_type": "code",
   "execution_count": null,
   "metadata": {},
   "outputs": [],
   "source": [
    "team = 'India'\n",
    "result_bar(team)\n",
    "result_pie(team)"
   ]
  },
  {
   "cell_type": "code",
   "execution_count": null,
   "metadata": {},
   "outputs": [],
   "source": [
    "# Get proportion of matches teamA won vs teamB\n",
    "teamA = 'England'\n",
    "teamB = 'Australia'\n",
    "_ = pair_results(teamA, teamB)"
   ]
  },
  {
   "cell_type": "code",
   "execution_count": null,
   "metadata": {},
   "outputs": [],
   "source": [
    "# Get proportion of matches teamA won vs all teams, and visualize\n",
    "teamA = 'West Indies'\n",
    "\n",
    "prop_dict = dict()\n",
    "for teamB in teams_list:\n",
    "    prop = pair_results(teamA, teamB, False)\n",
    "    if prop is not None:\n",
    "        prop_dict[teamB] = prop\n",
    "\n",
    "plt.figure(figsize=(10, 6))\n",
    "plt.bar(list(prop_dict.keys()), list(prop_dict.values()))\n",
    "plt.xlabel('Opponent')\n",
    "plt.ylabel('Proportion')\n",
    "plt.title(f'Proportion of Matches Won for {teamA}')\n",
    "plt.xticks(rotation=45)\n",
    "plt.tight_layout()\n",
    "plt.show()\n"
   ]
  },
  {
   "cell_type": "code",
   "execution_count": null,
   "metadata": {},
   "outputs": [],
   "source": [
    "# Idea: visualizations for total runs scored and total runs conceded\n",
    "# For a specific team across the simulation set\n",
    "\n",
    "def plot_runs(team):\n",
    "    runs_statistics = np.empty((n_sims, 2), dtype=float)\n",
    "    for i, file in enumerate(sim_files):\n",
    "        record = pd.read_csv(file)\n",
    "        runs_statistics[i,0] = record.loc[record['Country'] == team, 'total_runs_scored'].values[0]\n",
    "        runs_statistics[i,1] = record.loc[record['Country'] == team, 'total_runs_conceded'].values[0]\n",
    "\n",
    "    # Create density plots\n",
    "    sns.kdeplot(runs_statistics[:,0], fill=True)\n",
    "    plt.xlabel('Runs Scored')\n",
    "    plt.ylabel('Density')\n",
    "    plt.title(f'Scored Runs for {team}')\n",
    "    plt.show()\n",
    "\n",
    "    sns.kdeplot(runs_statistics[:,1], fill=True)\n",
    "    plt.xlabel('Runs Conceded')\n",
    "    plt.ylabel('Density')\n",
    "    plt.title(f'Conceded Runs for {team}')\n",
    "    plt.show()"
   ]
  },
  {
   "cell_type": "code",
   "execution_count": null,
   "metadata": {},
   "outputs": [],
   "source": [
    "team_to_plot = 'United States of America'\n",
    "plot_runs(team_to_plot)"
   ]
  },
  {
   "cell_type": "code",
   "execution_count": null,
   "metadata": {},
   "outputs": [],
   "source": [
    "# Idea: Plot percentage of wins against team versus relative rating?"
   ]
  }
 ],
 "metadata": {
  "kernelspec": {
   "display_name": "env",
   "language": "python",
   "name": "python3"
  },
  "language_info": {
   "codemirror_mode": {
    "name": "ipython",
    "version": 3
   },
   "file_extension": ".py",
   "mimetype": "text/x-python",
   "name": "python",
   "nbconvert_exporter": "python",
   "pygments_lexer": "ipython3",
   "version": "3.10.12"
  }
 },
 "nbformat": 4,
 "nbformat_minor": 2
}
