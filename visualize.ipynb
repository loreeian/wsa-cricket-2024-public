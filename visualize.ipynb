{
 "cells": [
  {
   "cell_type": "code",
   "execution_count": null,
   "metadata": {},
   "outputs": [],
   "source": [
    "from collections import Counter\n",
    "import glob\n",
    "import numpy as np\n",
    "import pandas as pd"
   ]
  },
  {
   "cell_type": "markdown",
   "metadata": {},
   "source": [
    "### Analyze Results"
   ]
  },
  {
   "cell_type": "code",
   "execution_count": null,
   "metadata": {},
   "outputs": [],
   "source": [
    "# TODO: change to \"final\"\n",
    "\n",
    "sim_files = glob.glob(pathname=\"simulation_results/simulation*.csv\")\n",
    "n_sims = len(sim_files)\n",
    "simulation_results = np.empty((n_sims, 20), dtype=object)\n",
    "\n",
    "for i, file in enumerate(sim_files):\n",
    "    record = pd.read_csv(file)\n",
    "    placements = pd.Series(record['Result'])\n",
    "    simulation_results[i] = placements.to_numpy()"
   ]
  },
  {
   "cell_type": "code",
   "execution_count": null,
   "metadata": {},
   "outputs": [],
   "source": [
    "# Two-dimensional numpy array of simulation results \n",
    "# with each row as a simulation, each column as country, entry as placement \n",
    "# team index is same as in teams_list, starting with India as 0\n",
    "\n",
    "with open('teams.txt') as file:\n",
    "    teams_list = file.read().splitlines()\n",
    "\n",
    "# Ex: Print results for all countries\n",
    "for i in range(0,20):\n",
    "    print(teams_list[i], \"results:\", dict(Counter(simulation_results[:,i])))"
   ]
  },
  {
   "cell_type": "code",
   "execution_count": null,
   "metadata": {},
   "outputs": [],
   "source": [
    "# match_records contains all match results from the simulation set.\n",
    "# This way, we can easily calculate the proportion of matches won\n",
    "# by one team versus another across the whole simulation set.\n",
    "# The outcome column is included only in the rare case a tie occurs.\n",
    "# Below, the match records from the first simulation are printed.\n",
    "match_records = pd.read_csv('match_records.csv')\n",
    "match_records[['winner','loser','outcome']].head(55)"
   ]
  },
  {
   "cell_type": "code",
   "execution_count": null,
   "metadata": {},
   "outputs": [],
   "source": [
    "# TODO: Visualize results based on simulation_results array and match_records dataframe"
   ]
  },
  {
   "cell_type": "code",
   "execution_count": null,
   "metadata": {},
   "outputs": [],
   "source": [
    "# def result_bar(team):"
   ]
  },
  {
   "cell_type": "code",
   "execution_count": null,
   "metadata": {},
   "outputs": [],
   "source": [
    "# def result_pie(team):"
   ]
  },
  {
   "cell_type": "code",
   "execution_count": null,
   "metadata": {},
   "outputs": [],
   "source": [
    "def pair_results(teamA, teamB, visualize=False):\n",
    "    if teamA == teamB:\n",
    "        return\n",
    "    num_victories = len(match_records.loc[(match_records['winner'] == teamA) &\n",
    "                                           (match_records['loser'] == teamB) &\n",
    "                                           (match_records['outcome'] == 'w')])\n",
    "    num_total = len(match_records.loc[((match_records['winner'] == teamA) &\n",
    "                                           (match_records['loser'] == teamB)) |\n",
    "                                           ((match_records['loser'] == teamA) &\n",
    "                                           (match_records['winner'] == teamB))])\n",
    "    if num_total == 0:\n",
    "        print(f\"{teamA} did not play {teamB} in this simulation set.\")\n",
    "    else:\n",
    "        prop = num_victories/num_total\n",
    "        print(f\"{teamA} beat {teamB} {num_victories} times in {num_total} matches, for a winning proportion of {prop}.\")"
   ]
  },
  {
   "cell_type": "code",
   "execution_count": null,
   "metadata": {},
   "outputs": [],
   "source": [
    "# Get bar chart / pie chart for any team here!\n",
    "team = 'Australia'  # Example\n",
    "# result_bar(team)\n",
    "# result_pie(team)"
   ]
  },
  {
   "cell_type": "code",
   "execution_count": null,
   "metadata": {},
   "outputs": [],
   "source": [
    "# Get proportion of matches teamA won vs teamB\n",
    "# Set visualize to True if desired\n",
    "teamA = 'West Indies'\n",
    "for team in teams_list:    \n",
    "    teamB = team\n",
    "    pair_results(teamA, team)"
   ]
  },
  {
   "cell_type": "code",
   "execution_count": null,
   "metadata": {},
   "outputs": [],
   "source": [
    "# Bar / pie charts for results could be good\n",
    "# pair_results could also work (especially if all shown for given team)\n",
    "# What else? Incorporate points or NRR? Something is missing with just these two"
   ]
  }
 ],
 "metadata": {
  "kernelspec": {
   "display_name": "env",
   "language": "python",
   "name": "python3"
  },
  "language_info": {
   "codemirror_mode": {
    "name": "ipython",
    "version": 3
   },
   "file_extension": ".py",
   "mimetype": "text/x-python",
   "name": "python",
   "nbconvert_exporter": "python",
   "pygments_lexer": "ipython3",
   "version": "3.11.9"
  }
 },
 "nbformat": 4,
 "nbformat_minor": 2
}
