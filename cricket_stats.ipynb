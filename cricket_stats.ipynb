{
 "cells": [
  {
   "cell_type": "markdown",
   "metadata": {},
   "source": [
    "### Setup and Preprocessing"
   ]
  },
  {
   "cell_type": "code",
   "execution_count": null,
   "metadata": {},
   "outputs": [],
   "source": [
    "import pandas as pd\n",
    "import numpy as np\n",
    "import random as rand\n",
    "import math"
   ]
  },
  {
   "cell_type": "code",
   "execution_count": null,
   "metadata": {},
   "outputs": [],
   "source": [
    "# Read in merged CSV file\n",
    "merge = pd.read_csv('merged_files.csv')\n",
    "print(merge.columns)\n",
    "print(merge['batting_team'].unique())\n",
    "merge.head()"
   ]
  },
  {
   "cell_type": "code",
   "execution_count": null,
   "metadata": {},
   "outputs": [],
   "source": [
    "# We will use only data from the last 4 years (2020-2024)\n",
    "merge[['start-year', 'start-day', 'start-month']] = merge['start_date'].str.split('-', expand=True)\n",
    "recent = merge.loc[merge['start-year'].astype(int) >= 2020]\n",
    "merge = merge.drop(['start-year', 'start-day', 'start-month'], axis=1)\n",
    "print(recent.shape)\n",
    "recent.head()"
   ]
  },
  {
   "cell_type": "code",
   "execution_count": null,
   "metadata": {},
   "outputs": [],
   "source": [
    "# Create dataframe of matches only from teams participating in the 2024 World Cup\n",
    "with open('teams.txt') as file:\n",
    "    teams_list = file.read().splitlines()\n",
    "wc20=recent.loc[(recent['bowling_team'].isin(teams_list)) | (recent['batting_team'].isin(teams_list))]\n",
    "print(wc20.shape)\n",
    "wc20.head()"
   ]
  },
  {
   "cell_type": "code",
   "execution_count": null,
   "metadata": {},
   "outputs": [],
   "source": [
    "# How many unique teams are there in wc20 competition with World Cup teams?\n",
    "# team_list = pd.unique(wc20[['batting_team', 'bowling_team']].values.ravel('K'))\n",
    "# for team in team_list:\n",
    "#    print(f\"\\\"{team}\\\"\",\":\",\",\")"
   ]
  },
  {
   "cell_type": "code",
   "execution_count": null,
   "metadata": {},
   "outputs": [],
   "source": [
    "#ICC T20 rating for all teams who have played against or are a World Cup team\n",
    "team_rating = {\n",
    "    \"South Africa\" : 249,\n",
    "    \"England\" : 256,\n",
    "    \"Australia\" : 255,\n",
    "    \"New Zealand\" : 254,\n",
    "    \"India\" : 266,\n",
    "    \"Pakistan\" : 249,\n",
    "    \"Sri Lanka\" : 234,\n",
    "    \"Ireland\" : 194,\n",
    "    \"West Indies\" : 245,\n",
    "    \"Bangladesh\" : 227,\n",
    "    \"Zimbabwe\" : 193,\n",
    "    \"Maldives\" : 3,\n",
    "    \"Oman\" : 154,\n",
    "    \"Afghanistan\" : 218,\n",
    "    \"Hong Kong\" : 139,\n",
    "    \"Nepal\" : 175,\n",
    "    \"Thailand\" : 0,\n",
    "    \"Uganda\" : 132,\n",
    "    \"Namibia\" : 196,\n",
    "    \"Netherlands\" : 183,\n",
    "    \"Malaysia\" : 125,\n",
    "    \"Scotland\" : 190,\n",
    "    \"Papua New Guinea\" : 143,\n",
    "    \"Nigeria\" : 75,\n",
    "    \"Kenya\" : 107,\n",
    "    \"United Arab Emirates\" : 174,\n",
    "    \"Malawi\" : 36,\n",
    "    \"Rwanda\" : 32,\n",
    "    \"Lesotho\" : 9,\n",
    "    \"Swaziland\" : 0,\n",
    "    \"Ghana\" : 31,\n",
    "    \"Seychelles\" : 0,\n",
    "    \"Belize\" : 22,\n",
    "    \"United States of America\" : 131,\n",
    "    \"Canada\" : 140,\n",
    "    \"Bermuda\" : 107,\n",
    "    \"Argentina\" : 39,\n",
    "    \"Bahamas\" : 24,\n",
    "    \"Panama\" : 19,\n",
    "    \"Tanzania\" : 93,\n",
    "    \"Philippines\" : 41,\n",
    "    \"Bahrain\" : 115,\n",
    "    \"Germany\" : 92,\n",
    "    \"Jersey\" : 128,\n",
    "    \"Singapore\" : 76,\n",
    "    \"Botswana\" : 53,\n",
    "    \"Mozambique\" : 36,\n",
    "    \"Saudi Arabia\" : 104,\n",
    "    \"Italy\" : 101,\n",
    "    \"Denmark\" : 71,\n",
    "    \"Austria\" : 58,\n",
    "    \"Vanuatu\" : 60,\n",
    "    \"Japan\" : 49,\n",
    "    \"Kuwait\" : 118,\n",
    "    \"Mongolia\" : 0, \n",
    "    \"Cayman Islands\" : 72,\n",
    "}"
   ]
  },
  {
   "cell_type": "code",
   "execution_count": null,
   "metadata": {},
   "outputs": [],
   "source": [
    "group_A = teams_list[0:5]\n",
    "group_B = teams_list[5:10]\n",
    "group_C = teams_list[10:15]\n",
    "group_D = teams_list[15:20]"
   ]
  },
  {
   "cell_type": "code",
   "execution_count": null,
   "metadata": {},
   "outputs": [],
   "source": [
    "%%capture\n",
    "# Store level of each team in dictionary\n",
    "# Based on ICC T20 rankings\n",
    "# Not used for now\n",
    "\"\"\"\n",
    "tier_list = {\n",
    "    \"India\" : 5,\n",
    "    \"England\" : 5,\n",
    "    \"Australia\" : 5,\n",
    "    \"New Zealand\" : 5,\n",
    "    \"Pakistan\" : 4,\n",
    "    \"South Africa\" : 4,\n",
    "    \"West Indies\" : 3,\n",
    "    \"Sri Lanka\" : 3,\n",
    "    \"Bangladesh\" : 3,\n",
    "    \"Afghanistan\" : 3,\n",
    "    \"Namibia\" : 2,\n",
    "    \"Ireland\" : 2,\n",
    "    \"Scotland\" : 2,\n",
    "    \"Netherlands\" : 2,\n",
    "    \"Nepal\" : 1,\n",
    "    \"Oman\" : 1,\n",
    "    \"Papua New Guinea\" : 1,\n",
    "    \"Canada\" : 0,\n",
    "    \"Uganda\" : 0,\n",
    "    \"United States of America\" : 0\n",
    "}\n",
    "\"\"\""
   ]
  },
  {
   "cell_type": "markdown",
   "metadata": {},
   "source": [
    "### Calculate Stats"
   ]
  },
  {
   "cell_type": "code",
   "execution_count": null,
   "metadata": {},
   "outputs": [],
   "source": [
    "#checks out\n",
    "df = (wc20\n",
    "       .loc[:, ['striker', 'runs_off_bat', 'batting_team', 'extras', 'wides', 'noballs','byes','legbyes']]\n",
    "       .groupby(['striker', 'batting_team'], as_index = False)\n",
    "       .sum())\n",
    "df_sorted = df.sort_values(by='runs_off_bat', ascending=False)\n",
    "print(df_sorted.head())\n",
    " "
   ]
  },
  {
   "cell_type": "code",
   "execution_count": null,
   "metadata": {},
   "outputs": [],
   "source": [
    "num_bowls = (wc20\n",
    "       .loc[:, ['striker', 'bowling_team', 'batting_team']]\n",
    "       .groupby(['striker', 'batting_team'], as_index = False)\n",
    "       .count()\n",
    "       .rename(columns = {'bowling_team' : 'n_bowls'})\n",
    "        )\n",
    "dfA = df_sorted.merge(num_bowls, on = ['striker', 'batting_team'])\n",
    "dfA = dfA.sort_values(by = 'runs_off_bat', ascending = False)\n",
    "print(dfA)"
   ]
  },
  {
   "cell_type": "code",
   "execution_count": null,
   "metadata": {},
   "outputs": [],
   "source": [
    "# check numbers for V Kohli\n",
    "print(df_sorted[df_sorted['striker'] == 'V Kohli'])\n",
    "print(dfA[dfA['striker'] == 'V Kohli'])"
   ]
  },
  {
   "cell_type": "code",
   "execution_count": null,
   "metadata": {},
   "outputs": [],
   "source": [
    "# Calculate runs per bowl for strikers (extras not included)\n",
    "# probably better to include extras in conceded runs for bowlers\n",
    "dfA['runs_per_bowl'] = (dfA['runs_off_bat'] / dfA['n_bowls'])\n",
    "dfA = dfA.sort_values(by = 'runs_per_bowl', ascending = False)\n",
    "dfA.head(10)"
   ]
  },
  {
   "cell_type": "code",
   "execution_count": null,
   "metadata": {},
   "outputs": [],
   "source": [
    "# Calculate runs conceded per bowl for bowlers (extras included)\n",
    "df = (wc20\n",
    "       .loc[:, ['bowler', 'bowling_team', 'runs_off_bat', 'extras']]\n",
    "       .groupby(['bowler', 'bowling_team'], as_index = False)\n",
    "       .sum())\n",
    "df_sorted = df.sort_values(by='runs_off_bat', ascending=False)\n",
    "df_sorted.head()"
   ]
  },
  {
   "cell_type": "code",
   "execution_count": null,
   "metadata": {},
   "outputs": [],
   "source": [
    "num_bowls = (wc20\n",
    "       .loc[:, ['bowler', 'bowling_team', 'batting_team']]\n",
    "       .groupby(['bowler', 'bowling_team'], as_index = False)\n",
    "       .count()\n",
    "       .rename(columns = {'batting_team' : 'n_bowls'})\n",
    "        )\n",
    "dfB = df_sorted.merge(num_bowls, on = ['bowler', 'bowling_team'])\n",
    "dfB = dfB.sort_values(by = 'runs_off_bat', ascending = False)\n",
    "print(dfB)"
   ]
  },
  {
   "cell_type": "code",
   "execution_count": null,
   "metadata": {},
   "outputs": [],
   "source": [
    "dfB['runs_conceded_per_bowl'] = ((dfB['runs_off_bat'] + dfB['extras']) / dfB['n_bowls'])\n",
    "dfB = dfB.sort_values(by = 'runs_conceded_per_bowl', ascending = False)\n",
    "dfB.head(10)"
   ]
  },
  {
   "cell_type": "code",
   "execution_count": null,
   "metadata": {},
   "outputs": [],
   "source": [
    "players = pd.read_csv('players.csv')\n",
    "\n",
    "# Add runs per bowl values to players.csv \n",
    "# Only RPB values for hitters and all_rounders will be used\n",
    "players = players.merge(dfA[['striker', 'runs_per_bowl']], how='left', left_on='name',right_on='striker')\n",
    "players = players.drop(columns = ['striker'])\n",
    "\n",
    "# Add runs conceded per bowl values to players.csv \n",
    "# Only RCPB values for bowlers and all_rounders will be used\n",
    "players = players.merge(dfB[['bowler', 'runs_conceded_per_bowl']], how='left', left_on='name',right_on='bowler')\n",
    "players = players.drop(columns = ['bowler'])\n",
    "\n",
    "players.head(7)"
   ]
  },
  {
   "cell_type": "code",
   "execution_count": null,
   "metadata": {},
   "outputs": [],
   "source": [
    "%%capture\n",
    "# Potential issue for players listed under the same name:\n",
    "# runs_off_bat (+ extras) grouped together for all players,\n",
    "# but separated by country, resulting in faulty numbers\n",
    "# should not affect any of our selected players\n",
    "\n",
    "\"\"\"\n",
    "khan = df2.loc[df2['striker']=='Shoaib Khan']\n",
    "print(khan)\n",
    "goud = df2.loc[df2['striker']=='Sandeep Goud']\n",
    "print(goud)\n",
    "goud = df2B.loc[df2B['bowler']=='Sandeep Goud']\n",
    "print(goud)\n",
    "\"\"\""
   ]
  },
  {
   "cell_type": "markdown",
   "metadata": {},
   "source": [
    "### Run Simulations"
   ]
  },
  {
   "cell_type": "code",
   "execution_count": null,
   "metadata": {},
   "outputs": [],
   "source": [
    "bowlers = players[((players['position'] == 'bowler') | (players['position'] == 'all_rounder'))]\n",
    "hitters = players[((players['position'] == 'hitter') | (players['position'] == 'all_rounder'))]\n",
    "\n",
    "# Remove players for which there is no data (one US bowler)\n",
    "bowlers = bowlers.dropna(subset=['runs_conceded_per_bowl'])\n",
    "hitters = hitters.dropna(subset=['runs_per_bowl'])\n",
    "\n",
    "print(bowlers.shape)\n",
    "print(hitters.shape)"
   ]
  },
  {
   "cell_type": "code",
   "execution_count": null,
   "metadata": {},
   "outputs": [],
   "source": [
    "# How we determine which score to use determines our results! \n",
    "# The distribution of RPB and RPCB could be decided on a per-match basis \n",
    "# if there is enough data for a player\n",
    "\n",
    "def get_runs(rpb, rcpb):\n",
    "    return rand.uniform(rpb,rcpb)"
   ]
  },
  {
   "cell_type": "code",
   "execution_count": null,
   "metadata": {},
   "outputs": [],
   "source": [
    "def run_match(country1, country2, print_score=False):\n",
    "    \n",
    "    #make a vector for each team's batters/bowlers \n",
    "    bowlers1 = bowlers.loc[bowlers['country'] == country1]\n",
    "    bowlers1 = bowlers1['name'].to_numpy()\n",
    "\n",
    "    bowlers2 = bowlers.loc[bowlers['country'] == country2]\n",
    "    bowlers2 = bowlers2['name'].to_numpy()\n",
    "\n",
    "    hitters1 = hitters.loc[hitters['country'] == country1]\n",
    "    hitters1 = hitters1['name'].to_numpy()\n",
    "\n",
    "    hitters2 = hitters.loc[hitters['country'] == country2]\n",
    "    hitters2 = hitters2['name'].to_numpy()\n",
    "\n",
    "    #base scores\n",
    "    country1_score = 0.0\n",
    "    country2_score = 0.0 \n",
    "    \n",
    "    # 2 x 4 hitters x 4 bowlers x 6 bowls\n",
    "    # 192 total bowls (except for US)\n",
    "\n",
    "    #first team score:\n",
    "    for hitter in hitters1:\n",
    "        for bowler in bowlers2:\n",
    "            for x in range(6):\n",
    "                rpb = (players.loc[players['name'] == hitter, 'runs_per_bowl'].values)[0]\n",
    "                rcpb = (players.loc[players['name'] == bowler, 'runs_conceded_per_bowl'].values)[0]\n",
    "                country1_score += get_runs(rpb, rcpb)\n",
    "              \n",
    "    \n",
    "    #second team score:\n",
    "    for hitter in hitters2:\n",
    "        for bowler in bowlers1:\n",
    "            for x in range(6):\n",
    "                rpb = (players.loc[players['name'] == hitter, 'runs_per_bowl'].values)[0]\n",
    "                rcpb = (players.loc[players['name'] == bowler, 'runs_conceded_per_bowl'].values)[0]\n",
    "                country2_score += get_runs(rpb, rcpb)\n",
    "\n",
    "# Adjust scores in case of US\n",
    "    if (country1 == \"United States of America\"):\n",
    "        country1_score = country1_score*(3/4)\n",
    "    elif (country2 == \"United States of America\"):\n",
    "        country2_score = country2_score*(3/4)\n",
    "    \n",
    "    if(print_score):\n",
    "        print(country1, \"score:\", country1_score)\n",
    "        print(country2, \"score:\", country2_score)\n",
    "\n",
    "    if country1_score > country2_score:\n",
    "        return country1\n",
    "    elif country1_score < country2_score:\n",
    "        return country2\n",
    "    else:\n",
    "        return 'tie'"
   ]
  },
  {
   "cell_type": "code",
   "execution_count": null,
   "metadata": {},
   "outputs": [],
   "source": [
    "# Change these to try a different matchup!\n",
    "teamA = 'Canada'\n",
    "teamB = 'Australia'\n",
    "\n",
    "# One match simulated with each function call\n",
    "# Add 'True' to run_match to print scores\n",
    "winner = run_match(teamA, teamB)\n",
    "print(\"Winner:\", winner)"
   ]
  },
  {
   "cell_type": "code",
   "execution_count": null,
   "metadata": {},
   "outputs": [],
   "source": [
    "# Run this to simulate many matches for a given pair\n",
    "num_iterations = 200\n",
    "A = 0\n",
    "for i in range(num_iterations):\n",
    "    if(run_match(teamA,teamB,True)==teamA):\n",
    "        A+=1\n",
    "print(\"Proportion that\", teamA, \"won:\",A/num_iterations)"
   ]
  },
  {
   "cell_type": "code",
   "execution_count": null,
   "metadata": {},
   "outputs": [],
   "source": [
    "# TODO: Loop through teams list to simulate matches"
   ]
  }
 ],
 "metadata": {
  "kernelspec": {
   "display_name": "Python 3 (ipykernel)",
   "language": "python",
   "name": "python3"
  },
  "language_info": {
   "codemirror_mode": {
    "name": "ipython",
    "version": 3
   },
   "file_extension": ".py",
   "mimetype": "text/x-python",
   "name": "python",
   "nbconvert_exporter": "python",
   "pygments_lexer": "ipython3",
   "version": "3.11.8"
  }
 },
 "nbformat": 4,
 "nbformat_minor": 2
}
