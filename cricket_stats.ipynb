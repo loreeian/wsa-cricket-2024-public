{
 "cells": [
  {
   "cell_type": "code",
   "execution_count": null,
   "metadata": {},
   "outputs": [],
   "source": [
    "import pandas as pd\n",
    "import numpy as np"
   ]
  },
  {
   "cell_type": "code",
   "execution_count": null,
   "metadata": {},
   "outputs": [],
   "source": [
    "# Read in merged CSV file\n",
    "merge = pd.read_csv('merged_files.csv')\n",
    "print(merge.columns)\n",
    "print(merge['batting_team'].unique())\n",
    "merge.head()"
   ]
  },
  {
   "cell_type": "code",
   "execution_count": null,
   "metadata": {},
   "outputs": [],
   "source": [
    "# We will use only data from the last 4 years (2020-2024)\n",
    "merge[['start-year', 'start-day', 'start-month']] = merge['start_date'].str.split('-', expand=True)\n",
    "df = merge.loc[merge['start-year'].astype(int) >= 2020]\n",
    "merge = merge.drop(['start-year', 'start-day', 'start-month'], axis=1)\n",
    "print(df.shape)\n",
    "df.head()"
   ]
  },
  {
   "cell_type": "code",
   "execution_count": null,
   "metadata": {},
   "outputs": [],
   "source": [
    "# Create dataframe of matches only from teams participating in the 2024 World Cup\n",
    "with open('teams.txt') as file:\n",
    "    teams_list = file.read().splitlines()\n",
    "wc20=df.loc[(df['bowling_team'].isin(teams_list)) | (df['batting_team'].isin(teams_list))]\n",
    "print(wc20.shape)\n",
    "wc20.head()"
   ]
  },
  {
   "cell_type": "code",
   "execution_count": null,
   "metadata": {},
   "outputs": [],
   "source": [
    "group_A = teams_list[0:5]\n",
    "group_B = teams_list[5:10]\n",
    "group_C = teams_list[10:15]\n",
    "group_D = teams_list[15:20]"
   ]
  },
  {
   "cell_type": "markdown",
   "metadata": {},
   "source": [
    "### Calculate Stats"
   ]
  },
  {
   "cell_type": "code",
   "execution_count": null,
   "metadata": {},
   "outputs": [],
   "source": [
    "_df = (df\n",
    "       .loc[:, ['striker', 'runs_off_bat', 'extras']]\n",
    "       .groupby(['striker'], as_index = False)\n",
    "       .sum())\n",
    "# _df_sorted = _df.sort_values(by='runs_off_bat', ascending=False)"
   ]
  },
  {
   "cell_type": "code",
   "execution_count": null,
   "metadata": {},
   "outputs": [],
   "source": [
    "num_bowls = (df\n",
    "       .loc[:, ['striker', 'bowling_team', 'batting_team']]\n",
    "       .groupby(['striker', 'batting_team'], as_index = False)\n",
    "       .count()\n",
    "       .rename(columns = {'bowling_team' : 'n_bowls'}))\n",
    "df2 = _df.merge(num_bowls, on = ['striker'])"
   ]
  },
  {
   "cell_type": "code",
   "execution_count": null,
   "metadata": {},
   "outputs": [],
   "source": [
    "# Calculate runs per bowl for strikers\n",
    "df2['runs_per_bowl'] = (df2['runs_off_bat'] + df2['extras']) / df2['n_bowls']\n",
    "df2['weighted_runs_per_bowl'] = df2['runs_per_bowl'] * df2['n_bowls']\n",
    "df2.sort_values(by = 'weighted_runs_per_bowl', ascending = False)\n",
    "print(df2.columns)"
   ]
  },
  {
   "cell_type": "code",
   "execution_count": null,
   "metadata": {},
   "outputs": [],
   "source": [
    "us = df2[df2['batting_team'] == 'United States of America']\n",
    "us.sort_values(by = 'weighted_runs_per_bowl', ascending = False)"
   ]
  },
  {
   "cell_type": "code",
   "execution_count": null,
   "metadata": {},
   "outputs": [],
   "source": [
    "# TODO: Calculate runs_conceded values"
   ]
  },
  {
   "cell_type": "code",
   "execution_count": null,
   "metadata": {},
   "outputs": [],
   "source": [
    "players = pd.read_csv('players.csv')\n",
    "\n",
    "# Add runs per bowl values to players.csv (for hitters & all-rounders)\n",
    "# Ignore rpb values for bowlers for now\n",
    "players = players.merge(df2[['striker', 'runs_per_bowl']], how='left', left_on='name',right_on='striker')\n",
    "players = players.drop(columns = ['striker'])\n",
    "\n",
    "# TODO: Add runs_conceded values to players.csv "
   ]
  },
  {
   "cell_type": "code",
   "execution_count": null,
   "metadata": {},
   "outputs": [],
   "source": [
    "players.head(7)\n",
    "#pd.set_option('display.max_rows', None)\n",
    "#players"
   ]
  },
  {
   "cell_type": "markdown",
   "metadata": {},
   "source": [
    "### Run Simulations"
   ]
  },
  {
   "cell_type": "code",
   "execution_count": null,
   "metadata": {},
   "outputs": [],
   "source": [
    "# TODO: implement simulations based on the calculated player data"
   ]
  }
 ],
 "metadata": {
  "kernelspec": {
   "display_name": "env",
   "language": "python",
   "name": "python3"
  },
  "language_info": {
   "codemirror_mode": {
    "name": "ipython",
    "version": 3
   },
   "file_extension": ".py",
   "mimetype": "text/x-python",
   "name": "python",
   "nbconvert_exporter": "python",
   "pygments_lexer": "ipython3",
   "version": "3.11.8"
  }
 },
 "nbformat": 4,
 "nbformat_minor": 2
}
