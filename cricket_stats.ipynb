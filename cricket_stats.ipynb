{
 "cells": [
  {
   "cell_type": "code",
   "execution_count": null,
   "metadata": {},
   "outputs": [],
   "source": [
    "import pandas as pd\n",
    "import numpy as np\n",
    "import random as rand\n",
    "import math"
   ]
  },
  {
   "cell_type": "code",
   "execution_count": null,
   "metadata": {},
   "outputs": [],
   "source": [
    "# Read in merged CSV file\n",
    "merge = pd.read_csv('merged_files.csv')\n",
    "print(merge.columns)\n",
    "print(merge['batting_team'].unique())\n",
    "merge.head()"
   ]
  },
  {
   "cell_type": "code",
   "execution_count": null,
   "metadata": {},
   "outputs": [],
   "source": [
    "# We will use only data from the last 4 years (2020-2024)\n",
    "merge[['start-year', 'start-day', 'start-month']] = merge['start_date'].str.split('-', expand=True)\n",
    "recent = merge.loc[merge['start-year'].astype(int) >= 2020]\n",
    "merge = merge.drop(['start-year', 'start-day', 'start-month'], axis=1)\n",
    "print(recent.shape)\n",
    "recent.head()"
   ]
  },
  {
   "cell_type": "code",
   "execution_count": null,
   "metadata": {},
   "outputs": [],
   "source": [
    "# Create dataframe of matches only from teams participating in the 2024 World Cup\n",
    "with open('teams.txt') as file:\n",
    "    teams_list = file.read().splitlines()\n",
    "wc20=recent.loc[(recent['bowling_team'].isin(teams_list)) | (recent['batting_team'].isin(teams_list))]\n",
    "print(wc20.shape)\n",
    "wc20.head()"
   ]
  },
  {
   "cell_type": "code",
   "execution_count": null,
   "metadata": {},
   "outputs": [],
   "source": [
    "group_A = teams_list[0:5]\n",
    "group_B = teams_list[5:10]\n",
    "group_C = teams_list[10:15]\n",
    "group_D = teams_list[15:20]"
   ]
  },
  {
   "cell_type": "code",
   "execution_count": null,
   "metadata": {},
   "outputs": [],
   "source": [
    "# Store level of each team in dictionary\n",
    "# Based on ICC T20 rankings\n",
    "tier_list = {\n",
    "    \"India\" : 5,\n",
    "    \"England\" : 5,\n",
    "    \"Australia\" : 5,\n",
    "    \"New Zealand\" : 5,\n",
    "    \"Pakistan\" : 4,\n",
    "    \"South Africa\" : 4,\n",
    "    \"West Indies\" : 3,\n",
    "    \"Sri Lanka\" : 3,\n",
    "    \"Bangladesh\" : 3,\n",
    "    \"Afghanistan\" : 3,\n",
    "    \"Namibia\" : 2,\n",
    "    \"Ireland\" : 2,\n",
    "    \"Scotland\" : 2,\n",
    "    \"Netherlands\" : 2,\n",
    "    \"Nepal\" : 1,\n",
    "    \"Oman\" : 1,\n",
    "    \"Papua New Guinea\" : 1,\n",
    "    \"Canada\" : 0,\n",
    "    \"Uganda\" : 0,\n",
    "    \"United States of America\" : 0\n",
    "}"
   ]
  },
  {
   "cell_type": "markdown",
   "metadata": {},
   "source": [
    "### Calculate Stats"
   ]
  },
  {
   "cell_type": "code",
   "execution_count": null,
   "metadata": {},
   "outputs": [],
   "source": [
    "#checks out\n",
    "df = (wc20\n",
    "       .loc[:, ['striker', 'runs_off_bat', 'batting_team', 'extras', 'wides', 'noballs','byes','legbyes']]\n",
    "       .groupby(['striker', 'batting_team'], as_index = False)\n",
    "       .sum())\n",
    "df_sorted = df.sort_values(by='runs_off_bat', ascending=False)\n",
    "print(df_sorted.head())\n",
    " "
   ]
  },
  {
   "cell_type": "code",
   "execution_count": null,
   "metadata": {},
   "outputs": [],
   "source": [
    "num_bowls = (wc20\n",
    "       .loc[:, ['striker', 'bowling_team', 'batting_team']]\n",
    "       .groupby(['striker', 'batting_team'], as_index = False)\n",
    "       .count()\n",
    "       .rename(columns = {'bowling_team' : 'n_bowls'})\n",
    "        )\n",
    "dfA = df_sorted.merge(num_bowls, on = ['striker', 'batting_team'])\n",
    "dfA = dfA.sort_values(by = 'runs_off_bat', ascending = False)\n",
    "print(dfA)"
   ]
  },
  {
   "cell_type": "code",
   "execution_count": null,
   "metadata": {},
   "outputs": [],
   "source": [
    "# check numbers for V Kohli\n",
    "print(df_sorted[df_sorted['striker'] == 'V Kohli'])\n",
    "print(dfA[dfA['striker'] == 'V Kohli'])"
   ]
  },
  {
   "cell_type": "code",
   "execution_count": null,
   "metadata": {},
   "outputs": [],
   "source": [
    "# Calculate runs per bowl for strikers (extras not included)\n",
    "# probably better to include extras in conceded runs for bowlers\n",
    "dfA['runs_per_bowl'] = (dfA['runs_off_bat'] / dfA['n_bowls'])\n",
    "dfA = dfA.sort_values(by = 'runs_per_bowl', ascending = False)\n",
    "dfA.head(10)"
   ]
  },
  {
   "cell_type": "code",
   "execution_count": null,
   "metadata": {},
   "outputs": [],
   "source": [
    "# Calculate runs conceded per bowl for bowlers (extras included)\n",
    "df = (wc20\n",
    "       .loc[:, ['bowler', 'bowling_team', 'runs_off_bat', 'extras']]\n",
    "       .groupby(['bowler', 'bowling_team'], as_index = False)\n",
    "       .sum())\n",
    "df_sorted = df.sort_values(by='runs_off_bat', ascending=False)\n",
    "df_sorted.head()"
   ]
  },
  {
   "cell_type": "code",
   "execution_count": null,
   "metadata": {},
   "outputs": [],
   "source": [
    "num_bowls = (wc20\n",
    "       .loc[:, ['bowler', 'bowling_team', 'batting_team']]\n",
    "       .groupby(['bowler', 'bowling_team'], as_index = False)\n",
    "       .count()\n",
    "       .rename(columns = {'batting_team' : 'n_bowls'})\n",
    "        )\n",
    "dfB = df_sorted.merge(num_bowls, on = ['bowler', 'bowling_team'])\n",
    "dfB = dfB.sort_values(by = 'runs_off_bat', ascending = False)\n",
    "print(dfB)"
   ]
  },
  {
   "cell_type": "code",
   "execution_count": null,
   "metadata": {},
   "outputs": [],
   "source": [
    "dfB['runs_conceded_per_bowl'] = ((dfB['runs_off_bat'] + dfB['extras']) / dfB['n_bowls'])\n",
    "dfB = dfB.sort_values(by = 'runs_conceded_per_bowl', ascending = False)\n",
    "dfB.head(10)"
   ]
  },
  {
   "cell_type": "code",
   "execution_count": null,
   "metadata": {},
   "outputs": [],
   "source": [
    "players = pd.read_csv('players.csv')\n",
    "\n",
    "# Add runs per bowl values to players.csv \n",
    "# Only RPB values for hitters and all_rounders will be used\n",
    "players = players.merge(dfA[['striker', 'runs_per_bowl']], how='left', left_on='name',right_on='striker')\n",
    "players = players.drop(columns = ['striker'])\n",
    "\n",
    "# Add runs conceded per bowl values to players.csv \n",
    "# Only RCPB values for bowlers and all_rounders will be used\n",
    "players = players.merge(dfB[['bowler', 'runs_conceded_per_bowl']], how='left', left_on='name',right_on='bowler')\n",
    "players = players.drop(columns = ['bowler'])"
   ]
  },
  {
   "cell_type": "code",
   "execution_count": null,
   "metadata": {},
   "outputs": [],
   "source": [
    "players.head(7)\n",
    "#pd.set_option('display.max_rows', None)\n",
    "#players"
   ]
  },
  {
   "cell_type": "code",
   "execution_count": null,
   "metadata": {},
   "outputs": [],
   "source": [
    "%%capture\n",
    "# Potential issue for players listed under the same name:\n",
    "# runs_off_bat (+ extras) grouped together for all players,\n",
    "# but separated by country, resulting in faulty numbers\n",
    "\n",
    "\"\"\"\n",
    "khan = df2.loc[df2['striker']=='Shoaib Khan']\n",
    "print(khan)\n",
    "goud = df2.loc[df2['striker']=='Sandeep Goud']\n",
    "print(goud)\n",
    "goud = df2B.loc[df2B['bowler']=='Sandeep Goud']\n",
    "print(goud)\n",
    "\"\"\""
   ]
  },
  {
   "cell_type": "markdown",
   "metadata": {},
   "source": [
    "### Run Simulations"
   ]
  },
  {
   "cell_type": "code",
   "execution_count": null,
   "metadata": {},
   "outputs": [],
   "source": [
    "bowlers = players[((players['position'] == 'bowler') | (players['position'] == 'all_rounder'))]\n",
    "hitters = players[((players['position'] == 'hitter') | (players['position'] == 'all_rounder'))]\n",
    "\n",
    "# Remove players for which there is no data (one US bowler)\n",
    "bowlers = bowlers.dropna(subset=['runs_conceded_per_bowl'])\n",
    "hitters = hitters.dropna(subset=['runs_per_bowl'])\n",
    "\n",
    "print(bowlers.shape)\n",
    "print(hitters.shape)"
   ]
  },
  {
   "cell_type": "code",
   "execution_count": null,
   "metadata": {},
   "outputs": [],
   "source": [
    "# How we determine which score to use determines our results! \n",
    "# The distribution of RPB and RPCB could be decided on a per-match basis \n",
    "# if there is enough data for a player.\n",
    "\n",
    "def get_runs(rpb, rcpb):\n",
    "    return rand.uniform(rpb,rcpb)"
   ]
  },
  {
   "cell_type": "code",
   "execution_count": null,
   "metadata": {},
   "outputs": [],
   "source": [
    "def run_match(country1, country2, print_score=False):\n",
    "    \n",
    "    #make a vector for each team's batters/bowlers \n",
    "    bowlers1 = bowlers.loc[bowlers['country'] == country1]\n",
    "    bowlers1 = bowlers1['name'].to_numpy()\n",
    "\n",
    "    bowlers2 = bowlers.loc[bowlers['country'] == country2]\n",
    "    bowlers2 = bowlers2['name'].to_numpy()\n",
    "\n",
    "    hitters1 = hitters.loc[hitters['country'] == country1]\n",
    "    hitters1 = hitters1['name'].to_numpy()\n",
    "\n",
    "    hitters2 = hitters.loc[hitters['country'] == country2]\n",
    "    hitters2 = hitters2['name'].to_numpy()\n",
    "\n",
    "    #base scores\n",
    "    country1_score = 0.0\n",
    "    country2_score = 0.0 \n",
    "    \n",
    "    # 2 x 4 hitters x 4 bowlers x 6 bowls\n",
    "    # 192 total bowls (except for US)\n",
    "\n",
    "    #first team score:\n",
    "    for hitter in hitters1:\n",
    "        for bowler in bowlers2:\n",
    "            for x in range(6):\n",
    "                rpb = (players.loc[players['name'] == hitter, 'runs_per_bowl'].values)[0]\n",
    "                rcpb = (players.loc[players['name'] == bowler, 'runs_conceded_per_bowl'].values)[0]\n",
    "                country1_score += get_runs(rpb, rcpb)\n",
    "              \n",
    "    \n",
    "    #second team score:\n",
    "    for hitter in hitters2:\n",
    "        for bowler in bowlers1:\n",
    "            for x in range(6):\n",
    "                rpb = (players.loc[players['name'] == hitter, 'runs_per_bowl'].values)[0]\n",
    "                rcpb = (players.loc[players['name'] == bowler, 'runs_conceded_per_bowl'].values)[0]\n",
    "                country2_score += get_runs(rpb, rcpb)\n",
    "\n",
    "# Adjust scores in case of US\n",
    "    if (country1 == \"United States of America\"):\n",
    "        country1_score = country1_score*(3/4)\n",
    "    elif (country2 == \"United States of America\"):\n",
    "        country2_score = country2_score*(3/4)\n",
    "    \n",
    "    if(print_score):\n",
    "        print(country1, \"score:\", country1_score)\n",
    "        print(country2, \"score:\", country2_score)\n",
    "\n",
    "    if country1_score > country2_score:\n",
    "        return country1\n",
    "    elif country1_score < country2_score:\n",
    "        return country2\n",
    "    else:\n",
    "        return 'tie'"
   ]
  },
  {
   "cell_type": "code",
   "execution_count": null,
   "metadata": {},
   "outputs": [],
   "source": [
    "# Change these to try a different matchup!\n",
    "teamA = 'Canada'\n",
    "teamB = 'Australia'\n",
    "\n",
    "# One match simulated with each function call\n",
    "winner = run_match(teamA, teamB,True)\n",
    "print(\"Winner:\", winner)"
   ]
  },
  {
   "cell_type": "code",
   "execution_count": null,
   "metadata": {},
   "outputs": [],
   "source": [
    "# Run this to simulate many matches for a given pair\n",
    "# Add 'True' to run_match to print scores\n",
    "num_iterations = 200\n",
    "A = 0\n",
    "for i in range(num_iterations):\n",
    "    if(run_match(teamA,teamB)==teamA):\n",
    "        A+=1\n",
    "print(\"Proportion that\", teamA, \"won:\",A/num_iterations)"
   ]
  },
  {
   "cell_type": "code",
   "execution_count": null,
   "metadata": {},
   "outputs": [],
   "source": [
    "# TODO: Loop through teams list to simulate matches"
   ]
  }
 ],
 "metadata": {
  "kernelspec": {
   "display_name": "Python 3 (ipykernel)",
   "language": "python",
   "name": "python3"
  },
  "language_info": {
   "codemirror_mode": {
    "name": "ipython",
    "version": 3
   },
   "file_extension": ".py",
   "mimetype": "text/x-python",
   "name": "python",
   "nbconvert_exporter": "python",
   "pygments_lexer": "ipython3",
   "version": "3.11.8"
  }
 },
 "nbformat": 4,
 "nbformat_minor": 2
}
